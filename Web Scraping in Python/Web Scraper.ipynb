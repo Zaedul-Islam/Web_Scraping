{
  "nbformat": 4,
  "nbformat_minor": 0,
  "metadata": {
    "colab": {
      "name": "Parsing HTML with Beautiful Soup.ipynb",
      "provenance": [],
      "collapsed_sections": [],
      "authorship_tag": "ABX9TyNrbASBVJSFTLPrmMQqAdTo",
      "include_colab_link": true
    },
    "kernelspec": {
      "name": "python3",
      "display_name": "Python 3"
    }
  },
  "cells": [
    {
      "cell_type": "markdown",
      "metadata": {
        "id": "view-in-github",
        "colab_type": "text"
      },
      "source": [
        "<a href=\"https://colab.research.google.com/github/Zaedul-Islam/Web_Scraping/blob/master/Web%20Scraping%20in%20Python/Web%20Scraper.ipynb\" target=\"_parent\"><img src=\"https://colab.research.google.com/assets/colab-badge.svg\" alt=\"Open In Colab\"/></a>"
      ]
    },
    {
      "cell_type": "markdown",
      "metadata": {
        "id": "JR9k64gI6PHD",
        "colab_type": "text"
      },
      "source": [
        "# **Web Scraping in Python**\n",
        "\n",
        "---\n"
      ]
    },
    {
      "cell_type": "markdown",
      "metadata": {
        "id": "MhQZeWcknPAM",
        "colab_type": "text"
      },
      "source": [
        "## **Step 1: Reading the web page into Python**"
      ]
    },
    {
      "cell_type": "markdown",
      "metadata": {
        "id": "cLc5P78-zhTU",
        "colab_type": "text"
      },
      "source": [
        "To install ***requests*** library in the command line execute this command: ***pip install requests***"
      ]
    },
    {
      "cell_type": "code",
      "metadata": {
        "id": "bienNIJKmvqd",
        "colab_type": "code",
        "colab": {}
      },
      "source": [
        "import requests\n",
        "webPage = requests.get('https://www.nytimes.com/interactive/2017/06/23/opinion/trumps-lies.html')"
      ],
      "execution_count": 0,
      "outputs": []
    },
    {
      "cell_type": "code",
      "metadata": {
        "id": "hgIQBjRzoOTG",
        "colab_type": "code",
        "outputId": "fd8ad7fe-f761-4816-e04d-eb6196ffcf0b",
        "colab": {
          "base_uri": "https://localhost:8080/",
          "height": 88
        }
      },
      "source": [
        "# The \"webPage\" object a \"text\" attribute which contains the same HTML code that we can see by viewing the source from a web browser\n",
        "# Print the first 500 characters of the HTML source code\n",
        "print(webPage.text[0:500])"
      ],
      "execution_count": 20,
      "outputs": [
        {
          "output_type": "stream",
          "text": [
            "<!DOCTYPE html>\n",
            "<!--[if (gt IE 9)|!(IE)]> <!--><html lang=\"en\" class=\"no-js page-interactive section-opinion page-theme-standard tone-opinion page-interactive-default limit-small layout-xlarge app-interactive\" itemid=\"https://www.nytimes.com/interactive/2017/06/23/opinion/trumps-lies.html\" itemtype=\"http://schema.org/NewsArticle\" itemscope xmlns:og=\"http://opengraphprotocol.org/schema/\"><!--<![endif]-->\n",
            "<!--[if IE 9]> <html lang=\"en\" class=\"no-js ie9 lt-ie10 page-interactive section-opinion page\n"
          ],
          "name": "stdout"
        }
      ]
    },
    {
      "cell_type": "markdown",
      "metadata": {
        "id": "2i0Qg3GFrsbW",
        "colab_type": "text"
      },
      "source": [
        "## **Step 2: Parsing the HTML using Beautiful Soup**"
      ]
    },
    {
      "cell_type": "markdown",
      "metadata": {
        "id": "06EcMXQ_1NNA",
        "colab_type": "text"
      },
      "source": [
        "To install ***bs4*** library from the command line execute this command: ***pip install beautifulsoup4***"
      ]
    },
    {
      "cell_type": "code",
      "metadata": {
        "id": "zramNV4Oryb3",
        "colab_type": "code",
        "colab": {}
      },
      "source": [
        "from bs4 import BeautifulSoup\n",
        "# BeautifulSoup is reading the HTML in \"webPage\" object and making sense of it's structure\n",
        "beautifulSoup = BeautifulSoup(webPage.text, 'html.parser')"
      ],
      "execution_count": 0,
      "outputs": []
    },
    {
      "cell_type": "markdown",
      "metadata": {
        "id": "AbEBANUr4ulF",
        "colab_type": "text"
      },
      "source": [
        "**allRecords** is an array contaning records in this format:\n",
        "`<span class=\"short-desc\"><strong> DATE </strong> LIE <span class=\"short-truth\"><a href=\"URL\"> EXPLANATION </a></span></span>`"
      ]
    },
    {
      "cell_type": "code",
      "metadata": {
        "id": "ofFoEN9gszhs",
        "colab_type": "code",
        "colab": {}
      },
      "source": [
        "# \"allRecords\" acts like a Python list\n",
        "allRecords = beautifulSoup.find_all('span', attrs={'class':'short-desc'})"
      ],
      "execution_count": 0,
      "outputs": []
    },
    {
      "cell_type": "code",
      "metadata": {
        "id": "NefDODSWtC1V",
        "colab_type": "code",
        "outputId": "6c220191-bbde-4180-a945-5e1a8e43d67e",
        "colab": {
          "base_uri": "https://localhost:8080/",
          "height": 34
        }
      },
      "source": [
        "len(allRecords)"
      ],
      "execution_count": 23,
      "outputs": [
        {
          "output_type": "execute_result",
          "data": {
            "text/plain": [
              "180"
            ]
          },
          "metadata": {
            "tags": []
          },
          "execution_count": 23
        }
      ]
    },
    {
      "cell_type": "code",
      "metadata": {
        "id": "6jgN7PTptKB3",
        "colab_type": "code",
        "outputId": "c93ce746-5c5b-4305-d620-13798e30a68f",
        "colab": {
          "base_uri": "https://localhost:8080/",
          "height": 88
        }
      },
      "source": [
        "# Print the first 3 records\n",
        "allRecords[0:3]  "
      ],
      "execution_count": 24,
      "outputs": [
        {
          "output_type": "execute_result",
          "data": {
            "text/plain": [
              "[<span class=\"short-desc\"><strong>Jan. 21 </strong>“I wasn't a fan of Iraq. I didn't want to go into Iraq.” <span class=\"short-truth\"><a href=\"https://www.buzzfeed.com/andrewkaczynski/in-2002-donald-trump-said-he-supported-invading-iraq-on-the\" target=\"_blank\">(He was for an invasion before he was against it.)</a></span></span>,\n",
              " <span class=\"short-desc\"><strong>Jan. 21 </strong>“A reporter for Time magazine — and I have been on their cover 14 or 15 times. I think we have the all-time record in the history of Time magazine.” <span class=\"short-truth\"><a href=\"http://nation.time.com/2013/11/06/10-things-you-didnt-know-about-time/\" target=\"_blank\">(Trump was on the cover 11 times and Nixon appeared 55 times.)</a></span></span>,\n",
              " <span class=\"short-desc\"><strong>Jan. 23 </strong>“Between 3 million and 5 million illegal votes caused me to lose the popular vote.” <span class=\"short-truth\"><a href=\"https://www.nytimes.com/2017/01/23/us/politics/donald-trump-congress-democrats.html\" target=\"_blank\">(There's no evidence of illegal voting.)</a></span></span>]"
            ]
          },
          "metadata": {
            "tags": []
          },
          "execution_count": 24
        }
      ]
    },
    {
      "cell_type": "code",
      "metadata": {
        "id": "ngSBOmf3todx",
        "colab_type": "code",
        "outputId": "0e77d557-86d0-4616-e707-91c624916569",
        "colab": {
          "base_uri": "https://localhost:8080/",
          "height": 54
        }
      },
      "source": [
        "# Get the last record of the article\n",
        "allRecords[-1]"
      ],
      "execution_count": 25,
      "outputs": [
        {
          "output_type": "execute_result",
          "data": {
            "text/plain": [
              "<span class=\"short-desc\"><strong>Nov. 11 </strong>“I'd rather have him  – you know, work with him on the Ukraine than standing and arguing about whether or not  – because that whole thing was set up by the Democrats.” <span class=\"short-truth\"><a href=\"https://www.nytimes.com/interactive/2017/12/10/us/politics/trump-and-russia.html\" target=\"_blank\">(There is no evidence that Democrats \"set up\" Russian interference in the election.)</a></span></span>"
            ]
          },
          "metadata": {
            "tags": []
          },
          "execution_count": 25
        }
      ]
    },
    {
      "cell_type": "markdown",
      "metadata": {
        "id": "ABcC7EpUZcE6",
        "colab_type": "text"
      },
      "source": [
        "## **Extracting the date**"
      ]
    },
    {
      "cell_type": "code",
      "metadata": {
        "id": "H--jF8i7ZbGy",
        "colab_type": "code",
        "outputId": "7af7f19c-f3d2-4859-d5bc-dbc853a95a38",
        "colab": {
          "base_uri": "https://localhost:8080/",
          "height": 54
        }
      },
      "source": [
        "firstResult = results[0]\n",
        "print(firstResult)"
      ],
      "execution_count": 26,
      "outputs": [
        {
          "output_type": "stream",
          "text": [
            "<span class=\"short-desc\"><strong>Jan. 21 </strong>“I wasn't a fan of Iraq. I didn't want to go into Iraq.” <span class=\"short-truth\"><a href=\"https://www.buzzfeed.com/andrewkaczynski/in-2002-donald-trump-said-he-supported-invading-iraq-on-the\" target=\"_blank\">(He was for an invasion before he was against it.)</a></span></span>\n"
          ],
          "name": "stdout"
        }
      ]
    }
  ]
}