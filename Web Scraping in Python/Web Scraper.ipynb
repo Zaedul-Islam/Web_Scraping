{
  "nbformat": 4,
  "nbformat_minor": 0,
  "metadata": {
    "colab": {
      "name": "Parsing HTML with Beautiful Soup.ipynb",
      "provenance": [],
      "collapsed_sections": [],
      "authorship_tag": "ABX9TyMZqy6cTK8x43ro2JiLGQ7d",
      "include_colab_link": true
    },
    "kernelspec": {
      "name": "python3",
      "display_name": "Python 3"
    }
  },
  "cells": [
    {
      "cell_type": "markdown",
      "metadata": {
        "id": "view-in-github",
        "colab_type": "text"
      },
      "source": [
        "<a href=\"https://colab.research.google.com/github/Zaedul-Islam/Web_Scraping/blob/master/Web%20Scraping%20in%20Python/Web%20Scraper.ipynb\" target=\"_parent\"><img src=\"https://colab.research.google.com/assets/colab-badge.svg\" alt=\"Open In Colab\"/></a>"
      ]
    },
    {
      "cell_type": "markdown",
      "metadata": {
        "id": "JR9k64gI6PHD",
        "colab_type": "text"
      },
      "source": [
        "# **Web Scraping in Python**\n",
        "\n",
        "---\n"
      ]
    },
    {
      "cell_type": "markdown",
      "metadata": {
        "id": "MhQZeWcknPAM",
        "colab_type": "text"
      },
      "source": [
        "## **Step 1: Reading the web page into Python**"
      ]
    },
    {
      "cell_type": "markdown",
      "metadata": {
        "id": "cLc5P78-zhTU",
        "colab_type": "text"
      },
      "source": [
        "To install ***requests*** library in the command line execute this command: ***pip install requests***"
      ]
    },
    {
      "cell_type": "code",
      "metadata": {
        "id": "bienNIJKmvqd",
        "colab_type": "code",
        "colab": {}
      },
      "source": [
        "import requests\n",
        "webPage = requests.get('https://www.nytimes.com/interactive/2017/06/23/opinion/trumps-lies.html')"
      ],
      "execution_count": 0,
      "outputs": []
    },
    {
      "cell_type": "code",
      "metadata": {
        "id": "hgIQBjRzoOTG",
        "colab_type": "code",
        "outputId": "82e0cd9b-1327-4da6-c369-023fe1aa7d72",
        "colab": {
          "base_uri": "https://localhost:8080/",
          "height": 88
        }
      },
      "source": [
        "# The \"webPage\" object a \"text\" attribute which contains the same HTML code that we can see by viewing the source from a web browser\n",
        "# Print the first 500 characters of the HTML source code\n",
        "print(webPage.text[0:500])"
      ],
      "execution_count": 39,
      "outputs": [
        {
          "output_type": "stream",
          "text": [
            "<!DOCTYPE html>\n",
            "<!--[if (gt IE 9)|!(IE)]> <!--><html lang=\"en\" class=\"no-js page-interactive section-opinion page-theme-standard tone-opinion page-interactive-default limit-small layout-xlarge app-interactive\" itemid=\"https://www.nytimes.com/interactive/2017/06/23/opinion/trumps-lies.html\" itemtype=\"http://schema.org/NewsArticle\" itemscope xmlns:og=\"http://opengraphprotocol.org/schema/\"><!--<![endif]-->\n",
            "<!--[if IE 9]> <html lang=\"en\" class=\"no-js ie9 lt-ie10 page-interactive section-opinion page\n"
          ],
          "name": "stdout"
        }
      ]
    },
    {
      "cell_type": "markdown",
      "metadata": {
        "id": "2i0Qg3GFrsbW",
        "colab_type": "text"
      },
      "source": [
        "## **Step 2: Parsing the HTML using Beautiful Soup**"
      ]
    },
    {
      "cell_type": "markdown",
      "metadata": {
        "id": "06EcMXQ_1NNA",
        "colab_type": "text"
      },
      "source": [
        "To install ***bs4*** library from the command line execute this command: ***pip install beautifulsoup4***"
      ]
    },
    {
      "cell_type": "code",
      "metadata": {
        "id": "zramNV4Oryb3",
        "colab_type": "code",
        "colab": {}
      },
      "source": [
        "from bs4 import BeautifulSoup\n",
        "# BeautifulSoup is reading the HTML in \"webPage\" object and making sense of it's structure\n",
        "beautifulSoup = BeautifulSoup(webPage.text, 'html.parser')"
      ],
      "execution_count": 0,
      "outputs": []
    },
    {
      "cell_type": "markdown",
      "metadata": {
        "id": "AbEBANUr4ulF",
        "colab_type": "text"
      },
      "source": [
        "**allRecords** is an array contaning records in this format:\n",
        "`<span class=\"short-desc\"><strong> DATE </strong> LIE <span class=\"short-truth\"><a href=\"URL\"> EXPLANATION </a></span></span>`"
      ]
    },
    {
      "cell_type": "code",
      "metadata": {
        "id": "ofFoEN9gszhs",
        "colab_type": "code",
        "colab": {}
      },
      "source": [
        "# \"recordList\" acts like a Python list\n",
        "recordList = beautifulSoup.find_all('span', attrs={'class':'short-desc'})"
      ],
      "execution_count": 0,
      "outputs": []
    },
    {
      "cell_type": "code",
      "metadata": {
        "id": "NefDODSWtC1V",
        "colab_type": "code",
        "outputId": "cda99989-6c62-475c-d9af-e31fe2b2fa21",
        "colab": {
          "base_uri": "https://localhost:8080/",
          "height": 34
        }
      },
      "source": [
        "len(recordList)"
      ],
      "execution_count": 42,
      "outputs": [
        {
          "output_type": "execute_result",
          "data": {
            "text/plain": [
              "180"
            ]
          },
          "metadata": {
            "tags": []
          },
          "execution_count": 42
        }
      ]
    },
    {
      "cell_type": "code",
      "metadata": {
        "id": "6jgN7PTptKB3",
        "colab_type": "code",
        "outputId": "9ceacdd2-555c-4621-cdf1-45c0411be803",
        "colab": {
          "base_uri": "https://localhost:8080/",
          "height": 88
        }
      },
      "source": [
        "# Print the first 3 records\n",
        "recordList[0:3]  "
      ],
      "execution_count": 43,
      "outputs": [
        {
          "output_type": "execute_result",
          "data": {
            "text/plain": [
              "[<span class=\"short-desc\"><strong>Jan. 21 </strong>“I wasn't a fan of Iraq. I didn't want to go into Iraq.” <span class=\"short-truth\"><a href=\"https://www.buzzfeed.com/andrewkaczynski/in-2002-donald-trump-said-he-supported-invading-iraq-on-the\" target=\"_blank\">(He was for an invasion before he was against it.)</a></span></span>,\n",
              " <span class=\"short-desc\"><strong>Jan. 21 </strong>“A reporter for Time magazine — and I have been on their cover 14 or 15 times. I think we have the all-time record in the history of Time magazine.” <span class=\"short-truth\"><a href=\"http://nation.time.com/2013/11/06/10-things-you-didnt-know-about-time/\" target=\"_blank\">(Trump was on the cover 11 times and Nixon appeared 55 times.)</a></span></span>,\n",
              " <span class=\"short-desc\"><strong>Jan. 23 </strong>“Between 3 million and 5 million illegal votes caused me to lose the popular vote.” <span class=\"short-truth\"><a href=\"https://www.nytimes.com/2017/01/23/us/politics/donald-trump-congress-democrats.html\" target=\"_blank\">(There's no evidence of illegal voting.)</a></span></span>]"
            ]
          },
          "metadata": {
            "tags": []
          },
          "execution_count": 43
        }
      ]
    },
    {
      "cell_type": "code",
      "metadata": {
        "id": "ngSBOmf3todx",
        "colab_type": "code",
        "outputId": "d40ba4c3-c5d5-4a2e-b214-592642cfd829",
        "colab": {
          "base_uri": "https://localhost:8080/",
          "height": 54
        }
      },
      "source": [
        "# Get the last record of the article\n",
        "recordList[-1]"
      ],
      "execution_count": 44,
      "outputs": [
        {
          "output_type": "execute_result",
          "data": {
            "text/plain": [
              "<span class=\"short-desc\"><strong>Nov. 11 </strong>“I'd rather have him  – you know, work with him on the Ukraine than standing and arguing about whether or not  – because that whole thing was set up by the Democrats.” <span class=\"short-truth\"><a href=\"https://www.nytimes.com/interactive/2017/12/10/us/politics/trump-and-russia.html\" target=\"_blank\">(There is no evidence that Democrats \"set up\" Russian interference in the election.)</a></span></span>"
            ]
          },
          "metadata": {
            "tags": []
          },
          "execution_count": 44
        }
      ]
    },
    {
      "cell_type": "markdown",
      "metadata": {
        "id": "KsBhA9Da7Qfe",
        "colab_type": "text"
      },
      "source": [
        "## **Step 3: Build the Dataset**"
      ]
    },
    {
      "cell_type": "markdown",
      "metadata": {
        "id": "ABcC7EpUZcE6",
        "colab_type": "text"
      },
      "source": [
        "### **1. Extracting the date**"
      ]
    },
    {
      "cell_type": "code",
      "metadata": {
        "id": "H--jF8i7ZbGy",
        "colab_type": "code",
        "outputId": "e351e76d-d92d-4f0b-f317-3fa90e0850a4",
        "colab": {
          "base_uri": "https://localhost:8080/",
          "height": 54
        }
      },
      "source": [
        "# Get the first record\n",
        "firstRecord = recordList [0]\n",
        "print(firstRecord)"
      ],
      "execution_count": 45,
      "outputs": [
        {
          "output_type": "stream",
          "text": [
            "<span class=\"short-desc\"><strong>Jan. 21 </strong>“I wasn't a fan of Iraq. I didn't want to go into Iraq.” <span class=\"short-truth\"><a href=\"https://www.buzzfeed.com/andrewkaczynski/in-2002-donald-trump-said-he-supported-invading-iraq-on-the\" target=\"_blank\">(He was for an invasion before he was against it.)</a></span></span>\n"
          ],
          "name": "stdout"
        }
      ]
    },
    {
      "cell_type": "code",
      "metadata": {
        "id": "VDSHGmAo8SF0",
        "colab_type": "code",
        "colab": {
          "base_uri": "https://localhost:8080/",
          "height": 34
        },
        "outputId": "b3b92dd1-9460-4ade-ccf5-75fede5da331"
      },
      "source": [
        "# Returns a BeautifulSoup object which is a HTML tag\n",
        "firstRecord.find('strong')"
      ],
      "execution_count": 47,
      "outputs": [
        {
          "output_type": "execute_result",
          "data": {
            "text/plain": [
              "<strong>Jan. 21 </strong>"
            ]
          },
          "metadata": {
            "tags": []
          },
          "execution_count": 47
        }
      ]
    },
    {
      "cell_type": "code",
      "metadata": {
        "id": "ZtHYRABz8r0T",
        "colab_type": "code",
        "colab": {
          "base_uri": "https://localhost:8080/",
          "height": 34
        },
        "outputId": "2e2ba78d-ef5d-40f8-b36b-223fd500de51"
      },
      "source": [
        "# Returns a regular Python string by accessing the text attribute inside the tag\n",
        "# \\xa0 is called escape sequence and a single charater that represents the nbsp character in the HTML source\n",
        "firstRecord.find('strong').text"
      ],
      "execution_count": 48,
      "outputs": [
        {
          "output_type": "execute_result",
          "data": {
            "text/plain": [
              "'Jan. 21\\xa0'"
            ]
          },
          "metadata": {
            "tags": []
          },
          "execution_count": 48
        }
      ]
    },
    {
      "cell_type": "code",
      "metadata": {
        "id": "5ViUhaJ79B5_",
        "colab_type": "code",
        "colab": {
          "base_uri": "https://localhost:8080/",
          "height": 34
        },
        "outputId": "97feae28-cb8f-4619-cd3e-11ddefb143f5"
      },
      "source": [
        "# Slice of \\xa0 from the end of the string\n",
        "firstRecord.find('strong').text[0:-1]"
      ],
      "execution_count": 49,
      "outputs": [
        {
          "output_type": "execute_result",
          "data": {
            "text/plain": [
              "'Jan. 21'"
            ]
          },
          "metadata": {
            "tags": []
          },
          "execution_count": 49
        }
      ]
    },
    {
      "cell_type": "code",
      "metadata": {
        "id": "APpXRmn09kUc",
        "colab_type": "code",
        "colab": {
          "base_uri": "https://localhost:8080/",
          "height": 34
        },
        "outputId": "2585172f-3b46-44bd-b639-954939f94824"
      },
      "source": [
        "# Add year to the date\n",
        "firstRecord.find('strong').text[0:-1] + ', 2017'"
      ],
      "execution_count": 52,
      "outputs": [
        {
          "output_type": "execute_result",
          "data": {
            "text/plain": [
              "'Jan. 21, 2017'"
            ]
          },
          "metadata": {
            "tags": []
          },
          "execution_count": 52
        }
      ]
    },
    {
      "cell_type": "markdown",
      "metadata": {
        "id": "hhtHlIMQ9337",
        "colab_type": "text"
      },
      "source": [
        "### **2. Extracting the lie**"
      ]
    },
    {
      "cell_type": "code",
      "metadata": {
        "id": "dpyZ5xq796yv",
        "colab_type": "code",
        "colab": {
          "base_uri": "https://localhost:8080/",
          "height": 54
        },
        "outputId": "3b74d02c-76cb-4404-a5f6-237cb1a5758a"
      },
      "source": [
        "# Print the first record\n",
        "firstRecord"
      ],
      "execution_count": 53,
      "outputs": [
        {
          "output_type": "execute_result",
          "data": {
            "text/plain": [
              "<span class=\"short-desc\"><strong>Jan. 21 </strong>“I wasn't a fan of Iraq. I didn't want to go into Iraq.” <span class=\"short-truth\"><a href=\"https://www.buzzfeed.com/andrewkaczynski/in-2002-donald-trump-said-he-supported-invading-iraq-on-the\" target=\"_blank\">(He was for an invasion before he was against it.)</a></span></span>"
            ]
          },
          "metadata": {
            "tags": []
          },
          "execution_count": 53
        }
      ]
    },
    {
      "cell_type": "code",
      "metadata": {
        "id": "0iXGlFLg-Hc7",
        "colab_type": "code",
        "colab": {
          "base_uri": "https://localhost:8080/",
          "height": 88
        },
        "outputId": "b57a417f-156c-43fd-b7bb-0a5e3835f78d"
      },
      "source": [
        "# The firstRecord tag has a contents attribute which returns a Python list containing it's children (nested tags)\n",
        "firstRecord.contents"
      ],
      "execution_count": 54,
      "outputs": [
        {
          "output_type": "execute_result",
          "data": {
            "text/plain": [
              "[<strong>Jan. 21 </strong>,\n",
              " \"“I wasn't a fan of Iraq. I didn't want to go into Iraq.” \",\n",
              " <span class=\"short-truth\"><a href=\"https://www.buzzfeed.com/andrewkaczynski/in-2002-donald-trump-said-he-supported-invading-iraq-on-the\" target=\"_blank\">(He was for an invasion before he was against it.)</a></span>]"
            ]
          },
          "metadata": {
            "tags": []
          },
          "execution_count": 54
        }
      ]
    },
    {
      "cell_type": "code",
      "metadata": {
        "id": "wq4gw9zG_dbI",
        "colab_type": "code",
        "colab": {
          "base_uri": "https://localhost:8080/",
          "height": 34
        },
        "outputId": "8cf70af9-637a-4132-a373-067bf31cd84f"
      },
      "source": [
        "# Get the LIE from the list\n",
        "firstRecord.contents[1]"
      ],
      "execution_count": 55,
      "outputs": [
        {
          "output_type": "execute_result",
          "data": {
            "text/plain": [
              "\"“I wasn't a fan of Iraq. I didn't want to go into Iraq.” \""
            ]
          },
          "metadata": {
            "tags": []
          },
          "execution_count": 55
        }
      ]
    },
    {
      "cell_type": "code",
      "metadata": {
        "id": "ggkvc5sk_rIs",
        "colab_type": "code",
        "colab": {
          "base_uri": "https://localhost:8080/",
          "height": 34
        },
        "outputId": "72fb7755-e8ae-4746-81d9-27062757ec69"
      },
      "source": [
        "# Slice off the curly quotation marks and a space\n",
        "firstRecord.contents[1][1:-2]"
      ],
      "execution_count": 56,
      "outputs": [
        {
          "output_type": "execute_result",
          "data": {
            "text/plain": [
              "\"I wasn't a fan of Iraq. I didn't want to go into Iraq.\""
            ]
          },
          "metadata": {
            "tags": []
          },
          "execution_count": 56
        }
      ]
    },
    {
      "cell_type": "markdown",
      "metadata": {
        "id": "WAyXhsowAXPI",
        "colab_type": "text"
      },
      "source": [
        "### **3. Extracting the explanation**"
      ]
    },
    {
      "cell_type": "code",
      "metadata": {
        "id": "f0gIxWs3Agdk",
        "colab_type": "code",
        "colab": {
          "base_uri": "https://localhost:8080/",
          "height": 54
        },
        "outputId": "ab43178a-79f1-4080-e191-d87c05ffde8a"
      },
      "source": [
        "firstRecord.contents[2]"
      ],
      "execution_count": 57,
      "outputs": [
        {
          "output_type": "execute_result",
          "data": {
            "text/plain": [
              "<span class=\"short-truth\"><a href=\"https://www.buzzfeed.com/andrewkaczynski/in-2002-donald-trump-said-he-supported-invading-iraq-on-the\" target=\"_blank\">(He was for an invasion before he was against it.)</a></span>"
            ]
          },
          "metadata": {
            "tags": []
          },
          "execution_count": 57
        }
      ]
    },
    {
      "cell_type": "code",
      "metadata": {
        "id": "BN1vcQvsAjW1",
        "colab_type": "code",
        "colab": {
          "base_uri": "https://localhost:8080/",
          "height": 34
        },
        "outputId": "c478e99b-3e25-40cc-e0d2-f942ac0d8617"
      },
      "source": [
        "firstRecord.find('a')"
      ],
      "execution_count": 58,
      "outputs": [
        {
          "output_type": "execute_result",
          "data": {
            "text/plain": [
              "<a href=\"https://www.buzzfeed.com/andrewkaczynski/in-2002-donald-trump-said-he-supported-invading-iraq-on-the\" target=\"_blank\">(He was for an invasion before he was against it.)</a>"
            ]
          },
          "metadata": {
            "tags": []
          },
          "execution_count": 58
        }
      ]
    },
    {
      "cell_type": "code",
      "metadata": {
        "id": "772Qs8H8AzjR",
        "colab_type": "code",
        "colab": {
          "base_uri": "https://localhost:8080/",
          "height": 34
        },
        "outputId": "8b515e21-3e1b-4f2f-c630-a1c757f83d92"
      },
      "source": [
        "# Returns the writer's explanation of the lie\n",
        "firstRecord.find('a').text[1:-1]"
      ],
      "execution_count": 60,
      "outputs": [
        {
          "output_type": "execute_result",
          "data": {
            "text/plain": [
              "'He was for an invasion before he was against it.'"
            ]
          },
          "metadata": {
            "tags": []
          },
          "execution_count": 60
        }
      ]
    },
    {
      "cell_type": "markdown",
      "metadata": {
        "id": "hnS7V_fOBOXT",
        "colab_type": "text"
      },
      "source": [
        "### **4. Extracting the URL**"
      ]
    },
    {
      "cell_type": "code",
      "metadata": {
        "id": "9fZlERohBRlt",
        "colab_type": "code",
        "colab": {
          "base_uri": "https://localhost:8080/",
          "height": 34
        },
        "outputId": "4da9c75c-52df-4376-fa4b-7e4e34076e78"
      },
      "source": [
        "firstRecord.find('a')"
      ],
      "execution_count": 61,
      "outputs": [
        {
          "output_type": "execute_result",
          "data": {
            "text/plain": [
              "<a href=\"https://www.buzzfeed.com/andrewkaczynski/in-2002-donald-trump-said-he-supported-invading-iraq-on-the\" target=\"_blank\">(He was for an invasion before he was against it.)</a>"
            ]
          },
          "metadata": {
            "tags": []
          },
          "execution_count": 61
        }
      ]
    },
    {
      "cell_type": "code",
      "metadata": {
        "id": "pue-JsOlBX95",
        "colab_type": "code",
        "colab": {
          "base_uri": "https://localhost:8080/",
          "height": 34
        },
        "outputId": "0099e210-dd87-440b-ba6d-445c1d58693b"
      },
      "source": [
        "# BeautifulSoup treats tag attributes and values as key-value pairs in a dictionary\n",
        "firstRecord.find('a')['href']"
      ],
      "execution_count": 64,
      "outputs": [
        {
          "output_type": "execute_result",
          "data": {
            "text/plain": [
              "'https://www.buzzfeed.com/andrewkaczynski/in-2002-donald-trump-said-he-supported-invading-iraq-on-the'"
            ]
          },
          "metadata": {
            "tags": []
          },
          "execution_count": 64
        }
      ]
    }
  ]
}