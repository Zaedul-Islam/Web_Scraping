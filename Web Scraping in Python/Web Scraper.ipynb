{
  "nbformat": 4,
  "nbformat_minor": 0,
  "metadata": {
    "colab": {
      "name": "Parsing HTML with Beautiful Soup.ipynb",
      "provenance": [],
      "collapsed_sections": [],
      "authorship_tag": "ABX9TyN8JpF2kg7mIiaVa4cYdDfQ",
      "include_colab_link": true
    },
    "kernelspec": {
      "name": "python3",
      "display_name": "Python 3"
    }
  },
  "cells": [
    {
      "cell_type": "markdown",
      "metadata": {
        "id": "view-in-github",
        "colab_type": "text"
      },
      "source": [
        "<a href=\"https://colab.research.google.com/github/Zaedul-Islam/Web_Scraping/blob/master/Web%20Scraping%20in%20Python/Web%20Scraper.ipynb\" target=\"_parent\"><img src=\"https://colab.research.google.com/assets/colab-badge.svg\" alt=\"Open In Colab\"/></a>"
      ]
    },
    {
      "cell_type": "markdown",
      "metadata": {
        "id": "JR9k64gI6PHD",
        "colab_type": "text"
      },
      "source": [
        "# **Web Scraping in Python**\n",
        "\n",
        "---\n"
      ]
    },
    {
      "cell_type": "markdown",
      "metadata": {
        "id": "MhQZeWcknPAM",
        "colab_type": "text"
      },
      "source": [
        "## **Step 1: Reading the web page into Python**"
      ]
    },
    {
      "cell_type": "markdown",
      "metadata": {
        "id": "cLc5P78-zhTU",
        "colab_type": "text"
      },
      "source": [
        "To install ***requests*** library in the command line execute this command: ***pip install requests***"
      ]
    },
    {
      "cell_type": "code",
      "metadata": {
        "id": "bienNIJKmvqd",
        "colab_type": "code",
        "colab": {}
      },
      "source": [
        "import requests\n",
        "webPage = requests.get('https://www.nytimes.com/interactive/2017/06/23/opinion/trumps-lies.html')"
      ],
      "execution_count": 0,
      "outputs": []
    },
    {
      "cell_type": "code",
      "metadata": {
        "id": "hgIQBjRzoOTG",
        "colab_type": "code",
        "outputId": "86699842-7dde-4501-e7f4-ffb6da6ee65b",
        "colab": {
          "base_uri": "https://localhost:8080/",
          "height": 88
        }
      },
      "source": [
        "# The \"webPage\" object a \"text\" attribute which contains the same HTML code that we can see by viewing the source from a web browser\n",
        "# Print the first 500 characters of the HTML source code\n",
        "print(webPage.text[0:500])"
      ],
      "execution_count": 89,
      "outputs": [
        {
          "output_type": "stream",
          "text": [
            "<!DOCTYPE html>\n",
            "<!--[if (gt IE 9)|!(IE)]> <!--><html lang=\"en\" class=\"no-js page-interactive section-opinion page-theme-standard tone-opinion page-interactive-default limit-small layout-xlarge app-interactive\" itemid=\"https://www.nytimes.com/interactive/2017/06/23/opinion/trumps-lies.html\" itemtype=\"http://schema.org/NewsArticle\" itemscope xmlns:og=\"http://opengraphprotocol.org/schema/\"><!--<![endif]-->\n",
            "<!--[if IE 9]> <html lang=\"en\" class=\"no-js ie9 lt-ie10 page-interactive section-opinion page\n"
          ],
          "name": "stdout"
        }
      ]
    },
    {
      "cell_type": "markdown",
      "metadata": {
        "id": "2i0Qg3GFrsbW",
        "colab_type": "text"
      },
      "source": [
        "## **Step 2: Parsing the HTML using Beautiful Soup**"
      ]
    },
    {
      "cell_type": "markdown",
      "metadata": {
        "id": "06EcMXQ_1NNA",
        "colab_type": "text"
      },
      "source": [
        "To install ***bs4*** library from the command line execute this command: ***pip install beautifulsoup4***"
      ]
    },
    {
      "cell_type": "code",
      "metadata": {
        "id": "zramNV4Oryb3",
        "colab_type": "code",
        "colab": {}
      },
      "source": [
        "from bs4 import BeautifulSoup\n",
        "# BeautifulSoup is reading the HTML in \"webPage\" object and making sense of it's structure\n",
        "beautifulSoup = BeautifulSoup(webPage.text, 'html.parser')"
      ],
      "execution_count": 0,
      "outputs": []
    },
    {
      "cell_type": "markdown",
      "metadata": {
        "id": "AbEBANUr4ulF",
        "colab_type": "text"
      },
      "source": [
        "**allRecords** is an array contaning records in this format:\n",
        "`<span class=\"short-desc\"><strong> DATE </strong> LIE <span class=\"short-truth\"><a href=\"URL\"> EXPLANATION </a></span></span>`"
      ]
    },
    {
      "cell_type": "code",
      "metadata": {
        "id": "ofFoEN9gszhs",
        "colab_type": "code",
        "colab": {}
      },
      "source": [
        "# \"recordList\" acts like a Python list\n",
        "recordList = beautifulSoup.find_all('span', attrs={'class':'short-desc'})"
      ],
      "execution_count": 0,
      "outputs": []
    },
    {
      "cell_type": "code",
      "metadata": {
        "id": "NefDODSWtC1V",
        "colab_type": "code",
        "outputId": "deffa6ed-dc17-4de6-ef1f-6f4d1dd85dc4",
        "colab": {
          "base_uri": "https://localhost:8080/",
          "height": 34
        }
      },
      "source": [
        "len(recordList)"
      ],
      "execution_count": 92,
      "outputs": [
        {
          "output_type": "execute_result",
          "data": {
            "text/plain": [
              "180"
            ]
          },
          "metadata": {
            "tags": []
          },
          "execution_count": 92
        }
      ]
    },
    {
      "cell_type": "code",
      "metadata": {
        "id": "6jgN7PTptKB3",
        "colab_type": "code",
        "outputId": "dc83eab1-ade9-4aa4-fdf3-36e995c698d5",
        "colab": {
          "base_uri": "https://localhost:8080/",
          "height": 88
        }
      },
      "source": [
        "# Print the first 3 records\n",
        "recordList[0:3]  "
      ],
      "execution_count": 93,
      "outputs": [
        {
          "output_type": "execute_result",
          "data": {
            "text/plain": [
              "[<span class=\"short-desc\"><strong>Jan. 21 </strong>“I wasn't a fan of Iraq. I didn't want to go into Iraq.” <span class=\"short-truth\"><a href=\"https://www.buzzfeed.com/andrewkaczynski/in-2002-donald-trump-said-he-supported-invading-iraq-on-the\" target=\"_blank\">(He was for an invasion before he was against it.)</a></span></span>,\n",
              " <span class=\"short-desc\"><strong>Jan. 21 </strong>“A reporter for Time magazine — and I have been on their cover 14 or 15 times. I think we have the all-time record in the history of Time magazine.” <span class=\"short-truth\"><a href=\"http://nation.time.com/2013/11/06/10-things-you-didnt-know-about-time/\" target=\"_blank\">(Trump was on the cover 11 times and Nixon appeared 55 times.)</a></span></span>,\n",
              " <span class=\"short-desc\"><strong>Jan. 23 </strong>“Between 3 million and 5 million illegal votes caused me to lose the popular vote.” <span class=\"short-truth\"><a href=\"https://www.nytimes.com/2017/01/23/us/politics/donald-trump-congress-democrats.html\" target=\"_blank\">(There's no evidence of illegal voting.)</a></span></span>]"
            ]
          },
          "metadata": {
            "tags": []
          },
          "execution_count": 93
        }
      ]
    },
    {
      "cell_type": "code",
      "metadata": {
        "id": "ngSBOmf3todx",
        "colab_type": "code",
        "outputId": "43e4b1bf-4342-49fb-d322-abaf4fc5635b",
        "colab": {
          "base_uri": "https://localhost:8080/",
          "height": 54
        }
      },
      "source": [
        "# Get the last record of the article\n",
        "recordList[-1]"
      ],
      "execution_count": 94,
      "outputs": [
        {
          "output_type": "execute_result",
          "data": {
            "text/plain": [
              "<span class=\"short-desc\"><strong>Nov. 11 </strong>“I'd rather have him  – you know, work with him on the Ukraine than standing and arguing about whether or not  – because that whole thing was set up by the Democrats.” <span class=\"short-truth\"><a href=\"https://www.nytimes.com/interactive/2017/12/10/us/politics/trump-and-russia.html\" target=\"_blank\">(There is no evidence that Democrats \"set up\" Russian interference in the election.)</a></span></span>"
            ]
          },
          "metadata": {
            "tags": []
          },
          "execution_count": 94
        }
      ]
    },
    {
      "cell_type": "markdown",
      "metadata": {
        "id": "KsBhA9Da7Qfe",
        "colab_type": "text"
      },
      "source": [
        "## **Step 3: Build the Dataset**"
      ]
    },
    {
      "cell_type": "markdown",
      "metadata": {
        "id": "ABcC7EpUZcE6",
        "colab_type": "text"
      },
      "source": [
        "### **1. Extracting the date**"
      ]
    },
    {
      "cell_type": "code",
      "metadata": {
        "id": "H--jF8i7ZbGy",
        "colab_type": "code",
        "outputId": "88ec32b9-4849-4363-a017-99fdb03f89a3",
        "colab": {
          "base_uri": "https://localhost:8080/",
          "height": 54
        }
      },
      "source": [
        "# Get the first record\n",
        "firstRecord = recordList [0]\n",
        "print(firstRecord)"
      ],
      "execution_count": 95,
      "outputs": [
        {
          "output_type": "stream",
          "text": [
            "<span class=\"short-desc\"><strong>Jan. 21 </strong>“I wasn't a fan of Iraq. I didn't want to go into Iraq.” <span class=\"short-truth\"><a href=\"https://www.buzzfeed.com/andrewkaczynski/in-2002-donald-trump-said-he-supported-invading-iraq-on-the\" target=\"_blank\">(He was for an invasion before he was against it.)</a></span></span>\n"
          ],
          "name": "stdout"
        }
      ]
    },
    {
      "cell_type": "code",
      "metadata": {
        "id": "VDSHGmAo8SF0",
        "colab_type": "code",
        "colab": {
          "base_uri": "https://localhost:8080/",
          "height": 34
        },
        "outputId": "de732125-c6b0-4477-a53f-aeb4fb8c7da9"
      },
      "source": [
        "# Returns a BeautifulSoup object which is a HTML tag\n",
        "firstRecord.find('strong')"
      ],
      "execution_count": 96,
      "outputs": [
        {
          "output_type": "execute_result",
          "data": {
            "text/plain": [
              "<strong>Jan. 21 </strong>"
            ]
          },
          "metadata": {
            "tags": []
          },
          "execution_count": 96
        }
      ]
    },
    {
      "cell_type": "code",
      "metadata": {
        "id": "ZtHYRABz8r0T",
        "colab_type": "code",
        "colab": {
          "base_uri": "https://localhost:8080/",
          "height": 34
        },
        "outputId": "0d8d07e8-16dc-4a86-c7a4-a1310f664273"
      },
      "source": [
        "# Returns a regular Python string by accessing the text attribute inside the tag\n",
        "# \\xa0 is called escape sequence and a single charater that represents the nbsp character in the HTML source\n",
        "firstRecord.find('strong').text"
      ],
      "execution_count": 97,
      "outputs": [
        {
          "output_type": "execute_result",
          "data": {
            "text/plain": [
              "'Jan. 21\\xa0'"
            ]
          },
          "metadata": {
            "tags": []
          },
          "execution_count": 97
        }
      ]
    },
    {
      "cell_type": "code",
      "metadata": {
        "id": "5ViUhaJ79B5_",
        "colab_type": "code",
        "colab": {
          "base_uri": "https://localhost:8080/",
          "height": 34
        },
        "outputId": "d76cf18d-4afd-43b8-d742-c5bd9ca2f6af"
      },
      "source": [
        "# Slice of \\xa0 from the end of the string\n",
        "firstRecord.find('strong').text[0:-1]"
      ],
      "execution_count": 98,
      "outputs": [
        {
          "output_type": "execute_result",
          "data": {
            "text/plain": [
              "'Jan. 21'"
            ]
          },
          "metadata": {
            "tags": []
          },
          "execution_count": 98
        }
      ]
    },
    {
      "cell_type": "code",
      "metadata": {
        "id": "APpXRmn09kUc",
        "colab_type": "code",
        "colab": {
          "base_uri": "https://localhost:8080/",
          "height": 34
        },
        "outputId": "01957e87-e072-45f9-9e69-516b23c4f4bd"
      },
      "source": [
        "# Add year to the date\n",
        "firstRecord.find('strong').text[0:-1] + ', 2017'"
      ],
      "execution_count": 99,
      "outputs": [
        {
          "output_type": "execute_result",
          "data": {
            "text/plain": [
              "'Jan. 21, 2017'"
            ]
          },
          "metadata": {
            "tags": []
          },
          "execution_count": 99
        }
      ]
    },
    {
      "cell_type": "markdown",
      "metadata": {
        "id": "hhtHlIMQ9337",
        "colab_type": "text"
      },
      "source": [
        "### **2. Extracting the lie**"
      ]
    },
    {
      "cell_type": "code",
      "metadata": {
        "id": "dpyZ5xq796yv",
        "colab_type": "code",
        "colab": {
          "base_uri": "https://localhost:8080/",
          "height": 54
        },
        "outputId": "e6b17aac-e987-4d3c-a0ed-698c63d3da08"
      },
      "source": [
        "# Print the first record\n",
        "firstRecord"
      ],
      "execution_count": 100,
      "outputs": [
        {
          "output_type": "execute_result",
          "data": {
            "text/plain": [
              "<span class=\"short-desc\"><strong>Jan. 21 </strong>“I wasn't a fan of Iraq. I didn't want to go into Iraq.” <span class=\"short-truth\"><a href=\"https://www.buzzfeed.com/andrewkaczynski/in-2002-donald-trump-said-he-supported-invading-iraq-on-the\" target=\"_blank\">(He was for an invasion before he was against it.)</a></span></span>"
            ]
          },
          "metadata": {
            "tags": []
          },
          "execution_count": 100
        }
      ]
    },
    {
      "cell_type": "code",
      "metadata": {
        "id": "0iXGlFLg-Hc7",
        "colab_type": "code",
        "colab": {
          "base_uri": "https://localhost:8080/",
          "height": 88
        },
        "outputId": "330a24ba-9e6f-41df-8e0d-828a650a745f"
      },
      "source": [
        "# The firstRecord tag has a contents attribute which returns a Python list containing it's children (nested tags)\n",
        "firstRecord.contents"
      ],
      "execution_count": 101,
      "outputs": [
        {
          "output_type": "execute_result",
          "data": {
            "text/plain": [
              "[<strong>Jan. 21 </strong>,\n",
              " \"“I wasn't a fan of Iraq. I didn't want to go into Iraq.” \",\n",
              " <span class=\"short-truth\"><a href=\"https://www.buzzfeed.com/andrewkaczynski/in-2002-donald-trump-said-he-supported-invading-iraq-on-the\" target=\"_blank\">(He was for an invasion before he was against it.)</a></span>]"
            ]
          },
          "metadata": {
            "tags": []
          },
          "execution_count": 101
        }
      ]
    },
    {
      "cell_type": "code",
      "metadata": {
        "id": "wq4gw9zG_dbI",
        "colab_type": "code",
        "colab": {
          "base_uri": "https://localhost:8080/",
          "height": 34
        },
        "outputId": "9a44d70b-cae7-41e0-985d-d25f96ecbecc"
      },
      "source": [
        "# Get the LIE from the list\n",
        "firstRecord.contents[1]"
      ],
      "execution_count": 102,
      "outputs": [
        {
          "output_type": "execute_result",
          "data": {
            "text/plain": [
              "\"“I wasn't a fan of Iraq. I didn't want to go into Iraq.” \""
            ]
          },
          "metadata": {
            "tags": []
          },
          "execution_count": 102
        }
      ]
    },
    {
      "cell_type": "code",
      "metadata": {
        "id": "ggkvc5sk_rIs",
        "colab_type": "code",
        "colab": {
          "base_uri": "https://localhost:8080/",
          "height": 34
        },
        "outputId": "d1603d9d-d1bf-4ea3-8d02-9a0e49296d0e"
      },
      "source": [
        "# Slice off the curly quotation marks and a space\n",
        "firstRecord.contents[1][1:-2]"
      ],
      "execution_count": 103,
      "outputs": [
        {
          "output_type": "execute_result",
          "data": {
            "text/plain": [
              "\"I wasn't a fan of Iraq. I didn't want to go into Iraq.\""
            ]
          },
          "metadata": {
            "tags": []
          },
          "execution_count": 103
        }
      ]
    },
    {
      "cell_type": "markdown",
      "metadata": {
        "id": "WAyXhsowAXPI",
        "colab_type": "text"
      },
      "source": [
        "### **3. Extracting the explanation**"
      ]
    },
    {
      "cell_type": "code",
      "metadata": {
        "id": "f0gIxWs3Agdk",
        "colab_type": "code",
        "colab": {
          "base_uri": "https://localhost:8080/",
          "height": 54
        },
        "outputId": "3ebe6f83-c288-4e52-ff75-2f567a6b52c1"
      },
      "source": [
        "firstRecord.contents[2]"
      ],
      "execution_count": 104,
      "outputs": [
        {
          "output_type": "execute_result",
          "data": {
            "text/plain": [
              "<span class=\"short-truth\"><a href=\"https://www.buzzfeed.com/andrewkaczynski/in-2002-donald-trump-said-he-supported-invading-iraq-on-the\" target=\"_blank\">(He was for an invasion before he was against it.)</a></span>"
            ]
          },
          "metadata": {
            "tags": []
          },
          "execution_count": 104
        }
      ]
    },
    {
      "cell_type": "code",
      "metadata": {
        "id": "BN1vcQvsAjW1",
        "colab_type": "code",
        "colab": {
          "base_uri": "https://localhost:8080/",
          "height": 34
        },
        "outputId": "da2cb72a-3fd4-41c5-f093-60908f0b492d"
      },
      "source": [
        "firstRecord.find('a')"
      ],
      "execution_count": 105,
      "outputs": [
        {
          "output_type": "execute_result",
          "data": {
            "text/plain": [
              "<a href=\"https://www.buzzfeed.com/andrewkaczynski/in-2002-donald-trump-said-he-supported-invading-iraq-on-the\" target=\"_blank\">(He was for an invasion before he was against it.)</a>"
            ]
          },
          "metadata": {
            "tags": []
          },
          "execution_count": 105
        }
      ]
    },
    {
      "cell_type": "code",
      "metadata": {
        "id": "772Qs8H8AzjR",
        "colab_type": "code",
        "colab": {
          "base_uri": "https://localhost:8080/",
          "height": 34
        },
        "outputId": "16160f6e-b16b-4e69-b0be-3db31fc5dca3"
      },
      "source": [
        "# Returns the writer's explanation of the lie\n",
        "firstRecord.find('a').text[1:-1]"
      ],
      "execution_count": 106,
      "outputs": [
        {
          "output_type": "execute_result",
          "data": {
            "text/plain": [
              "'He was for an invasion before he was against it.'"
            ]
          },
          "metadata": {
            "tags": []
          },
          "execution_count": 106
        }
      ]
    },
    {
      "cell_type": "markdown",
      "metadata": {
        "id": "hnS7V_fOBOXT",
        "colab_type": "text"
      },
      "source": [
        "### **4. Extracting the URL**"
      ]
    },
    {
      "cell_type": "code",
      "metadata": {
        "id": "9fZlERohBRlt",
        "colab_type": "code",
        "colab": {
          "base_uri": "https://localhost:8080/",
          "height": 34
        },
        "outputId": "71a9b142-a337-4703-fd0e-c1afa283b072"
      },
      "source": [
        "firstRecord.find('a')"
      ],
      "execution_count": 107,
      "outputs": [
        {
          "output_type": "execute_result",
          "data": {
            "text/plain": [
              "<a href=\"https://www.buzzfeed.com/andrewkaczynski/in-2002-donald-trump-said-he-supported-invading-iraq-on-the\" target=\"_blank\">(He was for an invasion before he was against it.)</a>"
            ]
          },
          "metadata": {
            "tags": []
          },
          "execution_count": 107
        }
      ]
    },
    {
      "cell_type": "code",
      "metadata": {
        "id": "pue-JsOlBX95",
        "colab_type": "code",
        "colab": {
          "base_uri": "https://localhost:8080/",
          "height": 34
        },
        "outputId": "f0b6c3fb-b8ed-4827-b58e-de12e607472a"
      },
      "source": [
        "# BeautifulSoup treats tag attributes and values as key-value pairs in a dictionary\n",
        "firstRecord.find('a')['href']"
      ],
      "execution_count": 108,
      "outputs": [
        {
          "output_type": "execute_result",
          "data": {
            "text/plain": [
              "'https://www.buzzfeed.com/andrewkaczynski/in-2002-donald-trump-said-he-supported-invading-iraq-on-the'"
            ]
          },
          "metadata": {
            "tags": []
          },
          "execution_count": 108
        }
      ]
    },
    {
      "cell_type": "markdown",
      "metadata": {
        "id": "UCV6tZvJgsZa",
        "colab_type": "text"
      },
      "source": [
        "## **Step 4: Building the dataset**"
      ]
    },
    {
      "cell_type": "code",
      "metadata": {
        "id": "WVOcu8FMgykE",
        "colab_type": "code",
        "colab": {}
      },
      "source": [
        "records = []\n",
        "for record in recordList: \n",
        "  date = record.find('strong').text[0:-1] + ', 2017'\n",
        "  lie = record.contents[1][1:-2]\n",
        "  explanation = record.find('a').text[1:-1]\n",
        "  url = record.find('a')['href']\n",
        "  records.append((date, lie, explanation, url))"
      ],
      "execution_count": 0,
      "outputs": []
    },
    {
      "cell_type": "code",
      "metadata": {
        "id": "jvhqtJm9hvGl",
        "colab_type": "code",
        "colab": {
          "base_uri": "https://localhost:8080/",
          "height": 34
        },
        "outputId": "d6b1981d-97c6-40ef-8fa0-ee4db318c92a"
      },
      "source": [
        "len(records)"
      ],
      "execution_count": 111,
      "outputs": [
        {
          "output_type": "execute_result",
          "data": {
            "text/plain": [
              "180"
            ]
          },
          "metadata": {
            "tags": []
          },
          "execution_count": 111
        }
      ]
    },
    {
      "cell_type": "code",
      "metadata": {
        "id": "2MopwylviAKx",
        "colab_type": "code",
        "colab": {
          "base_uri": "https://localhost:8080/",
          "height": 221
        },
        "outputId": "c8a834a1-db5e-48e6-b7dc-180f93916171"
      },
      "source": [
        "# # Print the first 3 records\n",
        "records[0:3]"
      ],
      "execution_count": 112,
      "outputs": [
        {
          "output_type": "execute_result",
          "data": {
            "text/plain": [
              "[('Jan. 21, 2017',\n",
              "  \"I wasn't a fan of Iraq. I didn't want to go into Iraq.\",\n",
              "  'He was for an invasion before he was against it.',\n",
              "  'https://www.buzzfeed.com/andrewkaczynski/in-2002-donald-trump-said-he-supported-invading-iraq-on-the'),\n",
              " ('Jan. 21, 2017',\n",
              "  'A reporter for Time magazine — and I have been on their cover 14 or 15 times. I think we have the all-time record in the history of Time magazine.',\n",
              "  'Trump was on the cover 11 times and Nixon appeared 55 times.',\n",
              "  'http://nation.time.com/2013/11/06/10-things-you-didnt-know-about-time/'),\n",
              " ('Jan. 23, 2017',\n",
              "  'Between 3 million and 5 million illegal votes caused me to lose the popular vote.',\n",
              "  \"There's no evidence of illegal voting.\",\n",
              "  'https://www.nytimes.com/2017/01/23/us/politics/donald-trump-congress-democrats.html')]"
            ]
          },
          "metadata": {
            "tags": []
          },
          "execution_count": 112
        }
      ]
    }
  ]
}